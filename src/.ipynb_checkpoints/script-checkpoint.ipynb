{
 "cells": [
  {
   "cell_type": "code",
   "execution_count": 4,
   "id": "df82c9da",
   "metadata": {},
   "outputs": [],
   "source": [
    "import pandas as pd\n",
    "import numpy as np\n",
    "import seaborn as sns\n",
    "import sklearn\n",
    "import json"
   ]
  },
  {
   "cell_type": "markdown",
   "id": "86bb7238",
   "metadata": {},
   "source": [
    "## Exploratory Data Analysis (EDA)\n",
    "\n",
    "1. Decide if feature selection is needed.\n",
    "    * Do you have hihgly correlated features?\n",
    "2. Decide if you have non-scalar attributes.\n",
    "3. What type of supervised learning is this?\n",
    "    * Binary Classification\n",
    "    * Multi-class classification?\n",
    "    * Ordinal classification [Tricky]\n",
    "        * Do you want to change this into regression or binarize into binary classification?\n",
    "    * Regression\n",
    "4. If doing classification\n",
    "    1. Decide whether you class variable makes sense.\n",
    "    2. Figure out what your class balance is\n",
    "5. Histogram the features\n",
    "    * Good if distribution is highly skewed\n",
    "6. Vizualize using reduced dimensions\n",
    "    * PCA, MVD\n",
    "    * T-SNE"
   ]
  },
  {
   "cell_type": "code",
   "execution_count": 5,
   "id": "7a26a623",
   "metadata": {},
   "outputs": [],
   "source": [
    "df = pd.read_csv(\"./data.csv\")"
   ]
  },
  {
   "cell_type": "code",
   "execution_count": 6,
   "id": "a0eb4f36",
   "metadata": {},
   "outputs": [
    {
     "data": {
      "text/plain": [
       "(2845342, 47)"
      ]
     },
     "execution_count": 6,
     "metadata": {},
     "output_type": "execute_result"
    }
   ],
   "source": [
    "df.shape"
   ]
  },
  {
   "cell_type": "code",
   "execution_count": null,
   "id": "e4ca3fc1",
   "metadata": {},
   "outputs": [],
   "source": []
  },
  {
   "cell_type": "code",
   "execution_count": null,
   "id": "85d39515",
   "metadata": {},
   "outputs": [],
   "source": []
  },
  {
   "cell_type": "markdown",
   "id": "12931562",
   "metadata": {},
   "source": [
    "## Preprocessing\n",
    "\n",
    "1. Remove meaningless features (e.g. IDs), or unfair features (e.g. percent grade should be removed if predicing final grade)\n",
    "2. Discretization\n",
    "3. Transform features into usable formats (standardize dates, vectorize words)\n",
    "4. Transform data to a wide format (one row per prediction)\n",
    "5. **Feature Selection**: Remove redundant, noisy features or unhelpful features\n",
    "6. Feature creation\n",
    "    * Use an external tool (e.g. analyzing sentiment from text)\n",
    "7. Revist EDA using processed features"
   ]
  }
 ],
 "metadata": {
  "kernelspec": {
   "display_name": "Python 3",
   "language": "python",
   "name": "python3"
  },
  "language_info": {
   "codemirror_mode": {
    "name": "ipython",
    "version": 3
   },
   "file_extension": ".py",
   "mimetype": "text/x-python",
   "name": "python",
   "nbconvert_exporter": "python",
   "pygments_lexer": "ipython3",
   "version": "3.8.8"
  }
 },
 "nbformat": 4,
 "nbformat_minor": 5
}
