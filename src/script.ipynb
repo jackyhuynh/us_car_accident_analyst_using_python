{
 "cells": [
  {
   "cell_type": "code",
   "execution_count": 4,
   "id": "df82c9da",
   "metadata": {},
   "outputs": [],
   "source": [
    "import pandas as pd\n",
    "import numpy as np\n",
    "import seaborn as sns\n",
    "import sklearn\n",
    "import json"
   ]
  },
  {
   "cell_type": "markdown",
   "id": "bea5f2f1",
   "metadata": {},
   "source": [
    "## Exploratory Data Analysis (EDA)\n",
    "\n",
    "1. Decide if feature selection is needed.\n",
    "    * Do you have hihgly correlated features?\n",
    "2. Decide if you have non-scalar attributes.\n",
    "3. What type of supervised learning is this?\n",
    "    * Binary Classification\n",
    "    * Multi-class classification?\n",
    "    * Ordinal classification [Tricky]\n",
    "        * Do you want to change this into regression or binarize into binary classification?\n",
    "    * Regression\n",
    "4. If doing classification\n",
    "    1. Decide whether you class variable makes sense.\n",
    "    2. Figure out what your class balance is\n",
    "5. Histogram the features\n",
    "    * Good if distribution is highly skewed\n",
    "6. Vizualize using reduced dimensions\n",
    "    * PCA, MVD\n",
    "    * T-SNE"
   ]
  },
  {
   "cell_type": "code",
   "execution_count": null,
   "id": "46547bc4",
   "metadata": {},
   "outputs": [],
   "source": []
  }
 ],
 "metadata": {
  "kernelspec": {
   "display_name": "Python 3",
   "language": "python",
   "name": "python3"
  },
  "language_info": {
   "codemirror_mode": {
    "name": "ipython",
    "version": 3
   },
   "file_extension": ".py",
   "mimetype": "text/x-python",
   "name": "python",
   "nbconvert_exporter": "python",
   "pygments_lexer": "ipython3",
   "version": "3.8.8"
  }
 },
 "nbformat": 4,
 "nbformat_minor": 5
}
