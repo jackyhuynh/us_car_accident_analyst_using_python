{
 "cells": [
  {
   "cell_type": "code",
   "execution_count": 3,
   "id": "df82c9da",
   "metadata": {},
   "outputs": [
    {
     "ename": "SpotifyOauthError",
     "evalue": "No client_id. Pass it or set a SPOTIPY_CLIENT_ID environment variable.",
     "output_type": "error",
     "traceback": [
      "\u001b[1;31m---------------------------------------------------------------------------\u001b[0m",
      "\u001b[1;31mSpotifyOauthError\u001b[0m                         Traceback (most recent call last)",
      "\u001b[1;32m<ipython-input-3-cff567bef62e>\u001b[0m in \u001b[0;36m<module>\u001b[1;34m\u001b[0m\n\u001b[0;32m      4\u001b[0m \u001b[0mlz_uri\u001b[0m \u001b[1;33m=\u001b[0m \u001b[1;34m'spotify:artist:36QJpDe2go2KgaRleHCDTp'\u001b[0m\u001b[1;33m\u001b[0m\u001b[1;33m\u001b[0m\u001b[0m\n\u001b[0;32m      5\u001b[0m \u001b[1;33m\u001b[0m\u001b[0m\n\u001b[1;32m----> 6\u001b[1;33m \u001b[0mspotify\u001b[0m \u001b[1;33m=\u001b[0m \u001b[0mspotipy\u001b[0m\u001b[1;33m.\u001b[0m\u001b[0mSpotify\u001b[0m\u001b[1;33m(\u001b[0m\u001b[0mclient_credentials_manager\u001b[0m\u001b[1;33m=\u001b[0m\u001b[0mSpotifyClientCredentials\u001b[0m\u001b[1;33m(\u001b[0m\u001b[1;33m)\u001b[0m\u001b[1;33m)\u001b[0m\u001b[1;33m\u001b[0m\u001b[1;33m\u001b[0m\u001b[0m\n\u001b[0m\u001b[0;32m      7\u001b[0m \u001b[0mresults\u001b[0m \u001b[1;33m=\u001b[0m \u001b[0mspotify\u001b[0m\u001b[1;33m.\u001b[0m\u001b[0martist_top_tracks\u001b[0m\u001b[1;33m(\u001b[0m\u001b[0mlz_uri\u001b[0m\u001b[1;33m)\u001b[0m\u001b[1;33m\u001b[0m\u001b[1;33m\u001b[0m\u001b[0m\n\u001b[0;32m      8\u001b[0m \u001b[1;33m\u001b[0m\u001b[0m\n",
      "\u001b[1;32m~\\anaconda3\\lib\\site-packages\\spotipy\\oauth2.py\u001b[0m in \u001b[0;36m__init__\u001b[1;34m(self, client_id, client_secret, proxies, requests_session, requests_timeout, cache_handler)\u001b[0m\n\u001b[0;32m    199\u001b[0m         \u001b[0msuper\u001b[0m\u001b[1;33m(\u001b[0m\u001b[0mSpotifyClientCredentials\u001b[0m\u001b[1;33m,\u001b[0m \u001b[0mself\u001b[0m\u001b[1;33m)\u001b[0m\u001b[1;33m.\u001b[0m\u001b[0m__init__\u001b[0m\u001b[1;33m(\u001b[0m\u001b[0mrequests_session\u001b[0m\u001b[1;33m)\u001b[0m\u001b[1;33m\u001b[0m\u001b[1;33m\u001b[0m\u001b[0m\n\u001b[0;32m    200\u001b[0m \u001b[1;33m\u001b[0m\u001b[0m\n\u001b[1;32m--> 201\u001b[1;33m         \u001b[0mself\u001b[0m\u001b[1;33m.\u001b[0m\u001b[0mclient_id\u001b[0m \u001b[1;33m=\u001b[0m \u001b[0mclient_id\u001b[0m\u001b[1;33m\u001b[0m\u001b[1;33m\u001b[0m\u001b[0m\n\u001b[0m\u001b[0;32m    202\u001b[0m         \u001b[0mself\u001b[0m\u001b[1;33m.\u001b[0m\u001b[0mclient_secret\u001b[0m \u001b[1;33m=\u001b[0m \u001b[0mclient_secret\u001b[0m\u001b[1;33m\u001b[0m\u001b[1;33m\u001b[0m\u001b[0m\n\u001b[0;32m    203\u001b[0m         \u001b[0mself\u001b[0m\u001b[1;33m.\u001b[0m\u001b[0mproxies\u001b[0m \u001b[1;33m=\u001b[0m \u001b[0mproxies\u001b[0m\u001b[1;33m\u001b[0m\u001b[1;33m\u001b[0m\u001b[0m\n",
      "\u001b[1;32m~\\anaconda3\\lib\\site-packages\\spotipy\\oauth2.py\u001b[0m in \u001b[0;36mclient_id\u001b[1;34m(self, val)\u001b[0m\n\u001b[0;32m     92\u001b[0m     \u001b[1;33m@\u001b[0m\u001b[0mclient_id\u001b[0m\u001b[1;33m.\u001b[0m\u001b[0msetter\u001b[0m\u001b[1;33m\u001b[0m\u001b[1;33m\u001b[0m\u001b[0m\n\u001b[0;32m     93\u001b[0m     \u001b[1;32mdef\u001b[0m \u001b[0mclient_id\u001b[0m\u001b[1;33m(\u001b[0m\u001b[0mself\u001b[0m\u001b[1;33m,\u001b[0m \u001b[0mval\u001b[0m\u001b[1;33m)\u001b[0m\u001b[1;33m:\u001b[0m\u001b[1;33m\u001b[0m\u001b[1;33m\u001b[0m\u001b[0m\n\u001b[1;32m---> 94\u001b[1;33m         \u001b[0mself\u001b[0m\u001b[1;33m.\u001b[0m\u001b[0m_client_id\u001b[0m \u001b[1;33m=\u001b[0m \u001b[0m_ensure_value\u001b[0m\u001b[1;33m(\u001b[0m\u001b[0mval\u001b[0m\u001b[1;33m,\u001b[0m \u001b[1;34m\"client_id\"\u001b[0m\u001b[1;33m)\u001b[0m\u001b[1;33m\u001b[0m\u001b[1;33m\u001b[0m\u001b[0m\n\u001b[0m\u001b[0;32m     95\u001b[0m \u001b[1;33m\u001b[0m\u001b[0m\n\u001b[0;32m     96\u001b[0m     \u001b[1;33m@\u001b[0m\u001b[0mproperty\u001b[0m\u001b[1;33m\u001b[0m\u001b[1;33m\u001b[0m\u001b[0m\n",
      "\u001b[1;32m~\\anaconda3\\lib\\site-packages\\spotipy\\oauth2.py\u001b[0m in \u001b[0;36m_ensure_value\u001b[1;34m(value, env_key)\u001b[0m\n\u001b[0;32m     68\u001b[0m             \u001b[0menv_val\u001b[0m\u001b[1;33m,\u001b[0m\u001b[1;33m\u001b[0m\u001b[1;33m\u001b[0m\u001b[0m\n\u001b[0;32m     69\u001b[0m         )\n\u001b[1;32m---> 70\u001b[1;33m         \u001b[1;32mraise\u001b[0m \u001b[0mSpotifyOauthError\u001b[0m\u001b[1;33m(\u001b[0m\u001b[0mmsg\u001b[0m\u001b[1;33m)\u001b[0m\u001b[1;33m\u001b[0m\u001b[1;33m\u001b[0m\u001b[0m\n\u001b[0m\u001b[0;32m     71\u001b[0m     \u001b[1;32mreturn\u001b[0m \u001b[0m_val\u001b[0m\u001b[1;33m\u001b[0m\u001b[1;33m\u001b[0m\u001b[0m\n\u001b[0;32m     72\u001b[0m \u001b[1;33m\u001b[0m\u001b[0m\n",
      "\u001b[1;31mSpotifyOauthError\u001b[0m: No client_id. Pass it or set a SPOTIPY_CLIENT_ID environment variable."
     ]
    }
   ],
   "source": [
    "import spotipy\n",
    "from spotipy.oauth2 import SpotifyClientCredentials\n",
    "\n",
    "lz_uri = 'spotify:artist:36QJpDe2go2KgaRleHCDTp'\n",
    "\n",
    "spotify = spotipy.Spotify(client_credentials_manager=SpotifyClientCredentials())\n",
    "results = spotify.artist_top_tracks(lz_uri)\n",
    "\n",
    "for track in results['tracks'][:10]:\n",
    "    print('track    : ' + track['name'])\n",
    "    print('audio    : ' + track['preview_url'])\n",
    "    print('cover art: ' + track['album']['images'][0]['url'])\n",
    "    print()"
   ]
  }
 ],
 "metadata": {
  "kernelspec": {
   "display_name": "Python 3",
   "language": "python",
   "name": "python3"
  },
  "language_info": {
   "codemirror_mode": {
    "name": "ipython",
    "version": 3
   },
   "file_extension": ".py",
   "mimetype": "text/x-python",
   "name": "python",
   "nbconvert_exporter": "python",
   "pygments_lexer": "ipython3",
   "version": "3.8.8"
  }
 },
 "nbformat": 4,
 "nbformat_minor": 5
}
